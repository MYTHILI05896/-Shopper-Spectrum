{
 "cells": [
  {
   "cell_type": "code",
   "execution_count": 1,
   "id": "a63d7181",
   "metadata": {
    "execution": {
     "iopub.execute_input": "2025-07-30T05:10:38.890406Z",
     "iopub.status.busy": "2025-07-30T05:10:38.890136Z",
     "iopub.status.idle": "2025-07-30T05:10:45.183510Z",
     "shell.execute_reply": "2025-07-30T05:10:45.182831Z"
    },
    "vscode": {
     "languageId": "plaintext"
    }
   },
   "outputs": [
    {
     "name": "stdout",
     "output_type": "stream",
     "text": [
      "Original dataset shape: (541909, 8)\n",
      "<class 'pandas.core.frame.DataFrame'>\n",
      "RangeIndex: 541909 entries, 0 to 541908\n",
      "Data columns (total 8 columns):\n",
      " #   Column       Non-Null Count   Dtype  \n",
      "---  ------       --------------   -----  \n",
      " 0   InvoiceNo    541909 non-null  object \n",
      " 1   StockCode    541909 non-null  object \n",
      " 2   Description  540455 non-null  object \n",
      " 3   Quantity     541909 non-null  int64  \n",
      " 4   InvoiceDate  541909 non-null  object \n",
      " 5   UnitPrice    541909 non-null  float64\n",
      " 6   CustomerID   406829 non-null  float64\n",
      " 7   Country      541909 non-null  object \n",
      "dtypes: float64(2), int64(1), object(5)\n",
      "memory usage: 33.1+ MB\n"
     ]
    },
    {
     "name": "stdout",
     "output_type": "stream",
     "text": [
      "Cleaned dataset shape: (397884, 9)\n"
     ]
    }
   ],
   "source": [
    "# 📦 Import required libraries\n",
    "import pandas as pd\n",
    "import numpy as np\n",
    "\n",
    "# 📂 Load the dataset\n",
    "df = pd.read_csv(\"../data/online_retail.csv\", encoding='ISO-8859-1')\n",
    "print(\"Original dataset shape:\", df.shape)\n",
    "\n",
    "# 🔍 View basic info\n",
    "df.info()\n",
    "df.head()\n",
    "\n",
    "# 🚫 Remove rows with missing CustomerID\n",
    "df = df.dropna(subset=['CustomerID'])\n",
    "\n",
    "# 🚫 Remove canceled orders (InvoiceNo starting with 'C')\n",
    "df = df[~df['InvoiceNo'].astype(str).str.startswith('C')]\n",
    "\n",
    "# 🚫 Remove rows with Quantity <= 0 or UnitPrice <= 0\n",
    "df = df[(df['Quantity'] > 0) & (df['UnitPrice'] > 0)]\n",
    "\n",
    "# 🕒 Convert InvoiceDate to datetime format\n",
    "df['InvoiceDate'] = pd.to_datetime(df['InvoiceDate'])\n",
    "\n",
    "# 💲 Create a new column for TotalPrice = Quantity × UnitPrice\n",
    "df['TotalPrice'] = df['Quantity'] * df['UnitPrice']\n",
    "\n",
    "# ✅ Save cleaned dataset (optional)\n",
    "df.to_csv(\"../data/cleaned_data.csv\", index=False)\n",
    "\n",
    "# ✅ Final shape\n",
    "print(\"Cleaned dataset shape:\", df.shape)\n"
   ]
  }
 ],
 "metadata": {
  "language_info": {
   "codemirror_mode": {
    "name": "ipython",
    "version": 3
   },
   "file_extension": ".py",
   "mimetype": "text/x-python",
   "name": "python",
   "nbconvert_exporter": "python",
   "pygments_lexer": "ipython3",
   "version": "3.12.1"
  }
 },
 "nbformat": 4,
 "nbformat_minor": 5
}
