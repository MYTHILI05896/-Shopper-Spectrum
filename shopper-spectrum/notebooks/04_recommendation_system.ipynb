{
 "cells": [
  {
   "cell_type": "code",
   "execution_count": 1,
   "id": "1f40d31d",
   "metadata": {},
   "outputs": [
    {
     "name": "stdout",
     "output_type": "stream",
     "text": [
      "Example Recommendations for 'WHITE HANGING HEART T-LIGHT HOLDER':\n",
      "\n",
      "Description\n",
      "GIN + TONIC DIET METAL SIGN         0.750410\n",
      "RED HANGING HEART T-LIGHT HOLDER    0.658719\n",
      "WASHROOM METAL SIGN                 0.643500\n",
      "LAUNDRY 15C METAL SIGN              0.642206\n",
      "GREEN VINTAGE SPOT BEAKER           0.631461\n",
      "Name: WHITE HANGING HEART T-LIGHT HOLDER, dtype: float64\n",
      "\n",
      "✅ Product similarity matrix saved.\n"
     ]
    }
   ],
   "source": [
    "# 📦 Step 1: Import Libraries\n",
    "import pandas as pd\n",
    "import numpy as np\n",
    "from sklearn.metrics.pairwise import cosine_similarity\n",
    "import joblib\n",
    "\n",
    "# 📂 Step 2: Load Cleaned Dataset\n",
    "df = pd.read_csv(\"../data/cleaned_data.csv\")\n",
    "\n",
    "# 📋 Step 3: Build Customer-Item Matrix\n",
    "pivot_table = df.pivot_table(index='CustomerID', columns='Description', values='Quantity', aggfunc='sum', fill_value=0)\n",
    "\n",
    "# 🧠 Step 4: Compute Cosine Similarity Between Products\n",
    "product_similarity = cosine_similarity(pivot_table.T)  # Transpose to get product × product\n",
    "similarity_df = pd.DataFrame(product_similarity, index=pivot_table.columns, columns=pivot_table.columns)\n",
    "\n",
    "# 🔍 Step 5: Function to Recommend Top 5 Similar Products\n",
    "def recommend_products(product_name, similarity_matrix=similarity_df, top_n=5):\n",
    "    if product_name not in similarity_matrix.columns:\n",
    "        return f\"❌ '{product_name}' not found in the product list.\"\n",
    "    \n",
    "    similar_scores = similarity_matrix[product_name].sort_values(ascending=False)[1:top_n+1]\n",
    "    return similar_scores\n",
    "\n",
    "# 🧪 Example Usage:\n",
    "print(\"Example Recommendations for 'WHITE HANGING HEART T-LIGHT HOLDER':\\n\")\n",
    "print(recommend_products('WHITE HANGING HEART T-LIGHT HOLDER'))\n",
    "\n",
    "# 💾 Step 6: Save Similarity Matrix for Streamlit Use\n",
    "similarity_df.to_pickle(\"../models/product_similarity.pkl\")\n",
    "\n",
    "print(\"\\n✅ Product similarity matrix saved.\")\n"
   ]
  }
 ],
 "metadata": {
  "kernelspec": {
   "display_name": ".venv",
   "language": "python",
   "name": "python3"
  },
  "language_info": {
   "codemirror_mode": {
    "name": "ipython",
    "version": 3
   },
   "file_extension": ".py",
   "mimetype": "text/x-python",
   "name": "python",
   "nbconvert_exporter": "python",
   "pygments_lexer": "ipython3",
   "version": "3.12.1"
  }
 },
 "nbformat": 4,
 "nbformat_minor": 5
}
